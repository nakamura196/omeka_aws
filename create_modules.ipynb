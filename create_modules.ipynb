{
 "cells": [
  {
   "cell_type": "code",
   "execution_count": 2,
   "metadata": {},
   "outputs": [
    {
     "name": "stdout",
     "output_type": "stream",
     "text": [
      "wget https://github.com/Daniel-KM/Omeka-S-module-EasyAdmin/releases/download/3.4.10/EasyAdmin-3.4.10.zip\n",
      "unzip EasyAdmin-3.4.10.zip\n",
      "rm EasyAdmin-3.4.10.zip\n",
      "wget https://github.com/Daniel-KM/Omeka-S-module-Log/releases/download/3.4.15/Log-3.4.15.zip\n",
      "unzip Log-3.4.15.zip\n",
      "rm Log-3.4.15.zip\n",
      "wget https://github.com/Daniel-KM/Omeka-S-module-Generic/releases/download/3.4.43/Generic-3.4.43.zip\n",
      "unzip Generic-3.4.43.zip\n",
      "rm Generic-3.4.43.zip\n",
      "wget https://github.com/Daniel-KM/Omeka-S-module-IiifServer/releases/download/3.6.13/IiifServer-3.6.13.zip\n",
      "unzip IiifServer-3.6.13.zip\n",
      "rm IiifServer-3.6.13.zip\n",
      "wget https://github.com/Daniel-KM/Omeka-S-module-ImageServer/releases/download/3.6.13/ImageServer-3.6.13.zip\n",
      "unzip ImageServer-3.6.13.zip\n",
      "rm ImageServer-3.6.13.zip\n"
     ]
    }
   ],
   "source": [
    "modules = {\n",
    "    \"EasyAdmin\": \"3.4.10\",\n",
    "    \"Log\": \"3.4.15\",\n",
    "    \"Generic\": \"3.4.43\",\n",
    "    \"IiifServer\": \"3.6.13\",\n",
    "    \"ImageServer\": \"3.6.13\"\n",
    "}\n",
    "\n",
    "lines = []\n",
    "\n",
    "for module in modules:\n",
    "    # print(module, modules[module])\n",
    "    version = modules[module]\n",
    "    lines.append(f\"wget https://github.com/Daniel-KM/Omeka-S-module-{module}/releases/download/{version}/{module}-{version}.zip\")\n",
    "    lines.append(f\"unzip {module}-{version}.zip\")\n",
    "    lines.append(f\"rm {module}-{version}.zip\")\n",
    "\n",
    "for line in lines:\n",
    "    print(line)"
   ]
  },
  {
   "cell_type": "code",
   "execution_count": null,
   "metadata": {},
   "outputs": [],
   "source": []
  }
 ],
 "metadata": {
  "kernelspec": {
   "display_name": "base",
   "language": "python",
   "name": "python3"
  },
  "language_info": {
   "codemirror_mode": {
    "name": "ipython",
    "version": 3
   },
   "file_extension": ".py",
   "mimetype": "text/x-python",
   "name": "python",
   "nbconvert_exporter": "python",
   "pygments_lexer": "ipython3",
   "version": "3.7.13"
  },
  "orig_nbformat": 4
 },
 "nbformat": 4,
 "nbformat_minor": 2
}
